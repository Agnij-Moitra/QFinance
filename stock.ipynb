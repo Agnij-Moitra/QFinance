{
 "cells": [
  {
   "cell_type": "code",
   "execution_count": 27,
   "id": "3e3acd4a",
   "metadata": {},
   "outputs": [],
   "source": [
    "import pandas as pd\n",
    "from sklearn.linear_model import LinearRegression\n",
    "import pickle"
   ]
  },
  {
   "cell_type": "code",
   "execution_count": 28,
   "id": "b0ac3ccf",
   "metadata": {},
   "outputs": [
    {
     "output_type": "execute_result",
     "data": {
      "text/plain": [
       "           Date        Open        High         Low       Close   Adj_Close  \\\n",
       "0    2020-06-17   93.000000   96.400002   91.800003   95.400002   95.400002   \n",
       "1    2020-06-18   95.000000   97.199997   94.150002   96.349998   96.349998   \n",
       "2    2020-06-19   96.500000  103.900002   95.599998  102.500000  102.500000   \n",
       "3    2020-06-22  102.349998  104.900002  101.000000  102.650002  102.650002   \n",
       "4    2020-06-23  103.000000  106.000000  101.900002  104.400002  104.400002   \n",
       "..          ...         ...         ...         ...         ...         ...   \n",
       "247  2021-06-11  346.000000  352.899994  344.350006  350.750000  350.750000   \n",
       "248  2021-06-14  350.049988  357.899994  341.100006  355.950012  355.950012   \n",
       "249  2021-06-15  355.750000  360.750000  351.500000  352.700012  352.700012   \n",
       "250  2021-06-16         NaN         NaN         NaN         NaN         NaN   \n",
       "251  2021-06-17  348.399994  352.899994  343.299988  344.149994  344.149994   \n",
       "\n",
       "          Volume  \n",
       "0    110830038.0  \n",
       "1     58964344.0  \n",
       "2    135462757.0  \n",
       "3     68545834.0  \n",
       "4     68638552.0  \n",
       "..           ...  \n",
       "247   36441967.0  \n",
       "248   38482142.0  \n",
       "249   35526159.0  \n",
       "250          NaN  \n",
       "251   22086610.0  \n",
       "\n",
       "[252 rows x 7 columns]"
      ],
      "text/html": "<div>\n<style scoped>\n    .dataframe tbody tr th:only-of-type {\n        vertical-align: middle;\n    }\n\n    .dataframe tbody tr th {\n        vertical-align: top;\n    }\n\n    .dataframe thead th {\n        text-align: right;\n    }\n</style>\n<table border=\"1\" class=\"dataframe\">\n  <thead>\n    <tr style=\"text-align: right;\">\n      <th></th>\n      <th>Date</th>\n      <th>Open</th>\n      <th>High</th>\n      <th>Low</th>\n      <th>Close</th>\n      <th>Adj_Close</th>\n      <th>Volume</th>\n    </tr>\n  </thead>\n  <tbody>\n    <tr>\n      <th>0</th>\n      <td>2020-06-17</td>\n      <td>93.000000</td>\n      <td>96.400002</td>\n      <td>91.800003</td>\n      <td>95.400002</td>\n      <td>95.400002</td>\n      <td>110830038.0</td>\n    </tr>\n    <tr>\n      <th>1</th>\n      <td>2020-06-18</td>\n      <td>95.000000</td>\n      <td>97.199997</td>\n      <td>94.150002</td>\n      <td>96.349998</td>\n      <td>96.349998</td>\n      <td>58964344.0</td>\n    </tr>\n    <tr>\n      <th>2</th>\n      <td>2020-06-19</td>\n      <td>96.500000</td>\n      <td>103.900002</td>\n      <td>95.599998</td>\n      <td>102.500000</td>\n      <td>102.500000</td>\n      <td>135462757.0</td>\n    </tr>\n    <tr>\n      <th>3</th>\n      <td>2020-06-22</td>\n      <td>102.349998</td>\n      <td>104.900002</td>\n      <td>101.000000</td>\n      <td>102.650002</td>\n      <td>102.650002</td>\n      <td>68545834.0</td>\n    </tr>\n    <tr>\n      <th>4</th>\n      <td>2020-06-23</td>\n      <td>103.000000</td>\n      <td>106.000000</td>\n      <td>101.900002</td>\n      <td>104.400002</td>\n      <td>104.400002</td>\n      <td>68638552.0</td>\n    </tr>\n    <tr>\n      <th>...</th>\n      <td>...</td>\n      <td>...</td>\n      <td>...</td>\n      <td>...</td>\n      <td>...</td>\n      <td>...</td>\n      <td>...</td>\n    </tr>\n    <tr>\n      <th>247</th>\n      <td>2021-06-11</td>\n      <td>346.000000</td>\n      <td>352.899994</td>\n      <td>344.350006</td>\n      <td>350.750000</td>\n      <td>350.750000</td>\n      <td>36441967.0</td>\n    </tr>\n    <tr>\n      <th>248</th>\n      <td>2021-06-14</td>\n      <td>350.049988</td>\n      <td>357.899994</td>\n      <td>341.100006</td>\n      <td>355.950012</td>\n      <td>355.950012</td>\n      <td>38482142.0</td>\n    </tr>\n    <tr>\n      <th>249</th>\n      <td>2021-06-15</td>\n      <td>355.750000</td>\n      <td>360.750000</td>\n      <td>351.500000</td>\n      <td>352.700012</td>\n      <td>352.700012</td>\n      <td>35526159.0</td>\n    </tr>\n    <tr>\n      <th>250</th>\n      <td>2021-06-16</td>\n      <td>NaN</td>\n      <td>NaN</td>\n      <td>NaN</td>\n      <td>NaN</td>\n      <td>NaN</td>\n      <td>NaN</td>\n    </tr>\n    <tr>\n      <th>251</th>\n      <td>2021-06-17</td>\n      <td>348.399994</td>\n      <td>352.899994</td>\n      <td>343.299988</td>\n      <td>344.149994</td>\n      <td>344.149994</td>\n      <td>22086610.0</td>\n    </tr>\n  </tbody>\n</table>\n<p>252 rows × 7 columns</p>\n</div>"
     },
     "metadata": {},
     "execution_count": 28
    }
   ],
   "source": [
    "path = \"TATAMOTORS.NS.csv\"\n",
    "df = pd.read_csv(path)\n",
    "df"
   ]
  },
  {
   "cell_type": "code",
   "execution_count": 29,
   "id": "5961acdb",
   "metadata": {},
   "outputs": [],
   "source": [
    "avg_open = df.Open.median()\n",
    "avg_high = df.High.median()\n",
    "avg_low = df.Low.median()\n",
    "avg_close = df.Close.median()\n",
    "avg_adj = df.Adj_Close.median()"
   ]
  },
  {
   "cell_type": "code",
   "execution_count": 30,
   "id": "bc3bffa6",
   "metadata": {},
   "outputs": [],
   "source": [
    "df.Open = df.Open.fillna(avg_open)\n",
    "df.High = df.High.fillna(avg_high)\n",
    "df.Low = df.Low.fillna(avg_low)\n",
    "df.Close = df.Close.fillna(avg_close)\n",
    "df.Adj_Close = df.Adj_Close.fillna(avg_adj)"
   ]
  },
  {
   "cell_type": "code",
   "execution_count": 31,
   "id": "cddc48c6",
   "metadata": {},
   "outputs": [
    {
     "output_type": "execute_result",
     "data": {
      "text/plain": [
       "LinearRegression()"
      ]
     },
     "metadata": {},
     "execution_count": 31
    }
   ],
   "source": [
    "reg = LinearRegression()\n",
    "reg.fit(df[[\"Open\", \"High\", \"Low\"]], df.Close)"
   ]
  },
  {
   "cell_type": "code",
   "execution_count": 39,
   "id": "8a07f02a",
   "metadata": {},
   "outputs": [
    {
     "output_type": "execute_result",
     "data": {
      "text/plain": [
       "94.75445021439722"
      ]
     },
     "metadata": {},
     "execution_count": 39
    }
   ],
   "source": [
    "reg.predict([[93, 96.400002, 91.800003]])[0]"
   ]
  },
  {
   "cell_type": "code",
   "execution_count": 36,
   "id": "558b54bd",
   "metadata": {},
   "outputs": [],
   "source": [
    "with open('module_pickle', 'wb') as f:\n",
    "    pickle.dump(reg, f)"
   ]
  },
  {
   "cell_type": "code",
   "execution_count": 26,
   "id": "ed6d5bb9",
   "metadata": {},
   "outputs": [],
   "source": []
  }
 ],
 "metadata": {
  "kernelspec": {
   "name": "python3",
   "display_name": "Python 3.9.5 64-bit"
  },
  "language_info": {
   "codemirror_mode": {
    "name": "ipython",
    "version": 3
   },
   "file_extension": ".py",
   "mimetype": "text/x-python",
   "name": "python",
   "nbconvert_exporter": "python",
   "pygments_lexer": "ipython3",
   "version": "3.9.5"
  },
  "interpreter": {
   "hash": "e48b3f1d990cb72d1944944ad3d71627b5fdd5ce06d90b14b58ee0edc9153770"
  }
 },
 "nbformat": 4,
 "nbformat_minor": 5
}